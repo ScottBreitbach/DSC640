{
 "cells": [
  {
   "cell_type": "markdown",
   "id": "5db43b4e-e496-47af-b901-3405750563fb",
   "metadata": {},
   "source": [
    "# Exercise 4.2: Scatterplots, Bubble Charts, & Density Plots/Maps\n",
    "#### Scott Breitbach\n",
    "#### DSC640 - 01/27/2022"
   ]
  },
  {
   "cell_type": "markdown",
   "id": "e383a82a-f767-4b75-8c66-cf0f9b3a1d4f",
   "metadata": {},
   "source": [
    "# Plots Using **Python**"
   ]
  },
  {
   "cell_type": "markdown",
   "id": "4feb260a-7767-48e9-9cc2-a6b23b4b8ffa",
   "metadata": {},
   "source": [
    "## Load Data"
   ]
  },
  {
   "cell_type": "code",
   "execution_count": 1,
   "id": "7b3bf9ab-ba22-4234-8228-24836bee3cc1",
   "metadata": {},
   "outputs": [],
   "source": [
    "# Load lib raries\n",
    "import pandas as pd\n",
    "import numpy as np\n",
    "import matplotlib.pyplot as plt\n",
    "import seaborn as sns"
   ]
  },
  {
   "cell_type": "code",
   "execution_count": null,
   "id": "65dfec4f-dd83-43bf-8d41-359913217790",
   "metadata": {},
   "outputs": [],
   "source": []
  },
  {
   "cell_type": "markdown",
   "id": "a800e2db-3de1-4c48-a80b-5731a0dbf435",
   "metadata": {},
   "source": [
    "<div style=\"page-break-after: always;\"></div>\n",
    "\n",
    "## Scatterplot"
   ]
  },
  {
   "cell_type": "code",
   "execution_count": null,
   "id": "889d0b87-e5d7-4b0d-8b8f-cee6310772eb",
   "metadata": {},
   "outputs": [],
   "source": []
  },
  {
   "cell_type": "markdown",
   "id": "866a2f52-2872-45d9-9f1c-326656e626de",
   "metadata": {},
   "source": [
    "<div style=\"page-break-after: always;\"></div>\n",
    "\n",
    "## Bubble Chart"
   ]
  },
  {
   "cell_type": "code",
   "execution_count": null,
   "id": "39d28a9c-f09f-4256-95ae-64fdf8046980",
   "metadata": {},
   "outputs": [],
   "source": []
  },
  {
   "cell_type": "markdown",
   "id": "559b77ab-9f49-41d5-b464-6cc7a2d58f09",
   "metadata": {},
   "source": [
    "<div style=\"page-break-after: always;\"></div>\n",
    "\n",
    "## Density Plot"
   ]
  },
  {
   "cell_type": "code",
   "execution_count": null,
   "id": "fa15bca0-898d-444c-ac12-d02ee842e4ed",
   "metadata": {},
   "outputs": [],
   "source": []
  }
 ],
 "metadata": {
  "kernelspec": {
   "display_name": "Python 3 (ipykernel)",
   "language": "python",
   "name": "python3"
  },
  "language_info": {
   "codemirror_mode": {
    "name": "ipython",
    "version": 3
   },
   "file_extension": ".py",
   "mimetype": "text/x-python",
   "name": "python",
   "nbconvert_exporter": "python",
   "pygments_lexer": "ipython3",
   "version": "3.9.7"
  }
 },
 "nbformat": 4,
 "nbformat_minor": 5
}
