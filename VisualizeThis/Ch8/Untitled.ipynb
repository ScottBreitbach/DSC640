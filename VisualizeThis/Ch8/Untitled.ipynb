{
 "cells": [
  {
   "cell_type": "code",
   "execution_count": 1,
   "id": "fce3563c-efef-4f28-adc5-c14970d3dbd5",
   "metadata": {},
   "outputs": [],
   "source": [
    "from geopy import geocoders\n",
    "import csv"
   ]
  },
  {
   "cell_type": "code",
   "execution_count": 2,
   "id": "cb2642c8-d645-4b09-bf85-3814d3c5d146",
   "metadata": {},
   "outputs": [
    {
     "ename": "ConfigurationError",
     "evalue": "Since July 2018 Google requires each request to have an API key. Pass a valid `api_key` to GoogleV3 geocoder to fix this error. See https://developers.google.com/maps/documentation/geocoding/usage-and-billing",
     "output_type": "error",
     "traceback": [
      "\u001b[1;31m---------------------------------------------------------------------------\u001b[0m",
      "\u001b[1;31mConfigurationError\u001b[0m                        Traceback (most recent call last)",
      "\u001b[1;32m~\\AppData\\Local\\Temp/ipykernel_21636/3455093043.py\u001b[0m in \u001b[0;36m<module>\u001b[1;34m\u001b[0m\n\u001b[0;32m      1\u001b[0m \u001b[1;31m# https://console.cloud.google.com/google/maps-apis/credentials?\u001b[0m\u001b[1;33m\u001b[0m\u001b[1;33m\u001b[0m\u001b[0m\n\u001b[0;32m      2\u001b[0m \u001b[0mg_api_key\u001b[0m \u001b[1;33m=\u001b[0m \u001b[1;34m''\u001b[0m\u001b[1;33m\u001b[0m\u001b[1;33m\u001b[0m\u001b[0m\n\u001b[1;32m----> 3\u001b[1;33m \u001b[0mg\u001b[0m \u001b[1;33m=\u001b[0m \u001b[0mgeocoders\u001b[0m\u001b[1;33m.\u001b[0m\u001b[0mGoogleV3\u001b[0m\u001b[1;33m(\u001b[0m\u001b[0mg_api_key\u001b[0m\u001b[1;33m)\u001b[0m\u001b[1;33m\u001b[0m\u001b[1;33m\u001b[0m\u001b[0m\n\u001b[0m",
      "\u001b[1;32mC:\\ProgramData\\Anaconda3\\lib\\site-packages\\geopy\\geocoders\\google.py\u001b[0m in \u001b[0;36m__init__\u001b[1;34m(self, api_key, domain, scheme, client_id, secret_key, timeout, proxies, user_agent, ssl_context, adapter_factory, channel)\u001b[0m\n\u001b[0;32m    111\u001b[0m \u001b[1;33m\u001b[0m\u001b[0m\n\u001b[0;32m    112\u001b[0m         \u001b[1;32mif\u001b[0m \u001b[1;32mnot\u001b[0m \u001b[0mself\u001b[0m\u001b[1;33m.\u001b[0m\u001b[0mpremier\u001b[0m \u001b[1;32mand\u001b[0m \u001b[1;32mnot\u001b[0m \u001b[0mapi_key\u001b[0m\u001b[1;33m:\u001b[0m\u001b[1;33m\u001b[0m\u001b[1;33m\u001b[0m\u001b[0m\n\u001b[1;32m--> 113\u001b[1;33m             raise ConfigurationError(\n\u001b[0m\u001b[0;32m    114\u001b[0m                 \u001b[1;34m'Since July 2018 Google requires each request to have an API key. '\u001b[0m\u001b[1;33m\u001b[0m\u001b[1;33m\u001b[0m\u001b[0m\n\u001b[0;32m    115\u001b[0m                 \u001b[1;34m'Pass a valid `api_key` to GoogleV3 geocoder to fix this error. '\u001b[0m\u001b[1;33m\u001b[0m\u001b[1;33m\u001b[0m\u001b[0m\n",
      "\u001b[1;31mConfigurationError\u001b[0m: Since July 2018 Google requires each request to have an API key. Pass a valid `api_key` to GoogleV3 geocoder to fix this error. See https://developers.google.com/maps/documentation/geocoding/usage-and-billing"
     ]
    }
   ],
   "source": [
    "# https://console.cloud.google.com/google/maps-apis/credentials?\n",
    "g_api_key = ''\n",
    "g = geocoders.GoogleV3(g_api_key)"
   ]
  },
  {
   "cell_type": "markdown",
   "id": "c009e7c1-4d10-4815-aa32-a2435b33cd5c",
   "metadata": {},
   "source": [
    "http://book.flowingdata.com/ch08/geocode/costcos-limited.csv"
   ]
  },
  {
   "cell_type": "code",
   "execution_count": null,
   "id": "97c0de38-cbe2-430a-b1c6-58c18cddb506",
   "metadata": {},
   "outputs": [],
   "source": [
    "# Load data\n",
    "costcos = csv.reader(open('costcos-limited.csv'), delimiter = ',')\n",
    "next(costcos)"
   ]
  },
  {
   "cell_type": "code",
   "execution_count": null,
   "id": "dcab0bce-a3b6-4760-b5ac-13140e01ea4e",
   "metadata": {},
   "outputs": [],
   "source": [
    "# print(\"Address,City,State,Zip Code,Latitude,Longitude\")\n",
    "# for row in costcos:\n",
    "#     full_addy = row[1] + ',' + row[2] + ',' + row[3] + ',' + row[4]\n",
    "#     place, (lat, lng) = list(g.geocode(full_addy, exactly_one=False))[0]\n",
    "#     print(full_addy + ',' + str(lat) + ',' + str(lon))"
   ]
  },
  {
   "cell_type": "code",
   "execution_count": null,
   "id": "d0d5a7e0-bc69-4421-95a1-dafacd88dac0",
   "metadata": {},
   "outputs": [],
   "source": [
    "costcos.head()"
   ]
  },
  {
   "cell_type": "code",
   "execution_count": null,
   "id": "8843ec31-8355-4a5e-985d-f33e8fceb5a1",
   "metadata": {},
   "outputs": [],
   "source": []
  },
  {
   "cell_type": "markdown",
   "id": "e602928f-2e61-45d5-a333-75ed0830fcf7",
   "metadata": {},
   "source": [
    "Okay, this didn't work. Maybe try some other service or Python package :("
   ]
  },
  {
   "cell_type": "code",
   "execution_count": 2,
   "id": "d3fc6069-bbf5-4766-a6d9-cc323fa7bee3",
   "metadata": {},
   "outputs": [],
   "source": [
    "from bs4 import BeautifulSoup"
   ]
  },
  {
   "cell_type": "code",
   "execution_count": null,
   "id": "4706a370-2cf9-4495-9ddd-383333e02648",
   "metadata": {},
   "outputs": [],
   "source": []
  }
 ],
 "metadata": {
  "kernelspec": {
   "display_name": "Python 3 (ipykernel)",
   "language": "python",
   "name": "python3"
  },
  "language_info": {
   "codemirror_mode": {
    "name": "ipython",
    "version": 3
   },
   "file_extension": ".py",
   "mimetype": "text/x-python",
   "name": "python",
   "nbconvert_exporter": "python",
   "pygments_lexer": "ipython3",
   "version": "3.9.7"
  }
 },
 "nbformat": 4,
 "nbformat_minor": 5
}
